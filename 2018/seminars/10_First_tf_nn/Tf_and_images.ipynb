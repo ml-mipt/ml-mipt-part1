{
 "cells": [
  {
   "cell_type": "markdown",
   "metadata": {},
   "source": [
    "## Today we are going to work with neural networks and images\n",
    "** We will use tensorflow, you can install it: https://www.tensorflow.org/install/ **\n",
    "\n",
    "* `pip install tensorflow` -- **cpu-only** version for Linux & Mac OSX\n",
    "* if you want GPU support try -- `pip install tensorflow-gpu`"
   ]
  },
  {
   "cell_type": "code",
   "execution_count": 1,
   "metadata": {
    "collapsed": true
   },
   "outputs": [],
   "source": [
    "# For lazy guys:)\n",
    "# !conda create -n tensorflow pip python=3.3,\n",
    "# !source activate tensorflow\n",
    "# !pip install --ignore-installed --upgrade https://storage.googleapis.com/tensorflow/linux/cpu/tensorflow-1.5.0-cp34-cp34m-linux_x86_64.whl"
   ]
  },
  {
   "cell_type": "markdown",
   "metadata": {},
   "source": [
    "\n",
    "<img src=\"img/act.png\" width=\"800\">\n",
    "\n",
    "## Neural networks convolutional layers extract features - quantitative representations of some attributes. After the extraction you can use these features for classification.\n",
    "\n",
    "## Let's look at popular architectures.\n",
    "\n",
    "### VGG\n",
    "\n",
    "<img src=\"img/vgg.png\" width=\"600\">\n",
    "\n",
    "### ResNet (Shortcut + Batch Normalization)\n",
    " \n",
    "<img src=\"img/resnet.png\" width=\"800\">\n",
    " \n",
    "### GoogleNet (Predict classes for many times)\n",
    "\n",
    " \n",
    "<img src=\"img/gln.png\" width=\"800\">\n",
    "\n",
    "\n",
    "## Deeper layer $\\to$ more complex features.\n",
    "\n",
    "<img src=\"img/feat.png\" width=\"800\">\n",
    "\n",
    "## In practice it is easier to learn pre-trained NN (Fine-Tuning)\n",
    "\n",
    "<img src=\"img/ft.jpg\" width=\"600\">\n",
    "\n",
    "## As we can see, they are really deep :)\n",
    "\n",
    "## Dark Magic \n",
    "\n",
    "<img src=\"img/dm.png\" width=\"600\">"
   ]
  },
  {
   "cell_type": "code",
   "execution_count": 2,
   "metadata": {},
   "outputs": [
    {
     "name": "stderr",
     "output_type": "stream",
     "text": [
      "/home/vprov/anaconda3/lib/python3.6/site-packages/h5py/__init__.py:34: FutureWarning: Conversion of the second argument of issubdtype from `float` to `np.floating` is deprecated. In future, it will be treated as `np.float64 == np.dtype(float).type`.\n",
      "  from ._conv import register_converters as _register_converters\n"
     ]
    }
   ],
   "source": [
    "import tensorflow as tf\n",
    "import numpy as np\n",
    "import matplotlib.pyplot as plt\n",
    "import random\n",
    "from sklearn.model_selection import train_test_split\n",
    "from sklearn.metrics import roc_auc_score\n",
    "%matplotlib inline"
   ]
  },
  {
   "cell_type": "markdown",
   "metadata": {},
   "source": [
    "** Let's play with tensorflow. ** "
   ]
  },
  {
   "cell_type": "code",
   "execution_count": 3,
   "metadata": {},
   "outputs": [
    {
     "data": {
      "text/plain": [
       "'1.5.0'"
      ]
     },
     "execution_count": 3,
     "metadata": {},
     "output_type": "execute_result"
    }
   ],
   "source": [
    "tf.__version__"
   ]
  },
  {
   "cell_type": "markdown",
   "metadata": {},
   "source": [
    "## Functions are similar to numpy. But we should remember that we declarate computational graph, and these functions will compute only while session is on.\n"
   ]
  },
  {
   "cell_type": "markdown",
   "metadata": {},
   "source": [
    "## Placeholder is a constant of fix size."
   ]
  },
  {
   "cell_type": "code",
   "execution_count": 4,
   "metadata": {
    "collapsed": true
   },
   "outputs": [],
   "source": [
    "N = tf.placeholder('int64', name=\"input_to_your_function\")\n",
    "# N square.\n",
    "result_0 = tf.pow(N,2)\n",
    "# Sum of squares of numbers up to N.\n",
    "result_1 = tf.reduce_sum((tf.range(N)**2))"
   ]
  },
  {
   "cell_type": "code",
   "execution_count": 5,
   "metadata": {},
   "outputs": [
    {
     "data": {
      "text/plain": [
       "<tf.Tensor 'Pow:0' shape=<unknown> dtype=int64>"
      ]
     },
     "execution_count": 5,
     "metadata": {},
     "output_type": "execute_result"
    }
   ],
   "source": [
    "result_0"
   ]
  },
  {
   "cell_type": "markdown",
   "metadata": {},
   "source": [
    "# How does it work?\n",
    "1. define placeholders where you'll send inputs;\n",
    "2. make symbolic graph: a recipe for mathematical transformation of those placeholders;\n",
    "3. compute outputs of your graph with particular values for each placeholder\n",
    "  * output.eval({placeholder:value}) \n",
    "  * s.run(output, {placeholder:value})\n",
    "\n",
    "* So far there are two main entities: \"placeholder\" and \"transformation\"\n",
    "* Both can be numbers, vectors, matrices, tensors, etc.\n",
    "* Both can be int32/64, floats of booleans (uint8) of various size.\n",
    "\n",
    "* You can define new transformations as an arbitrary operation on placeholders and other transformations\n",
    " * tf.reduce_sum(tf.arange(N)\\**2) are 3 sequential transformations of placeholder N\n",
    " * There's a tensorflow symbolic version for every numpy function\n",
    "   * `a+b, a/b, a**b, ...` behave just like in numpy\n",
    "   * np.mean -> tf.reduce_mean\n",
    "   * np.arange -> tf.range\n",
    "   * np.cumsum -> tf.cumsum\n",
    "   * If if you can't find the op you need, see the [docs](https://www.tensorflow.org/api_docs/python)."
   ]
  },
  {
   "cell_type": "markdown",
   "metadata": {},
   "source": [
    "## All initial parameters are submited to session as dict ({Placeholder_name: value})."
   ]
  },
  {
   "cell_type": "code",
   "execution_count": 6,
   "metadata": {
    "collapsed": true
   },
   "outputs": [],
   "source": [
    "sess = tf.Session()"
   ]
  },
  {
   "cell_type": "code",
   "execution_count": 7,
   "metadata": {},
   "outputs": [
    {
     "name": "stdout",
     "output_type": "stream",
     "text": [
      "10000\n"
     ]
    }
   ],
   "source": [
    "print(sess.run(result_0, {N:100}))"
   ]
  },
  {
   "cell_type": "code",
   "execution_count": 8,
   "metadata": {},
   "outputs": [
    {
     "name": "stdout",
     "output_type": "stream",
     "text": [
      "328350\n"
     ]
    }
   ],
   "source": [
    "print(sess.run(result_1, {N:100}))"
   ]
  },
  {
   "cell_type": "code",
   "execution_count": 9,
   "metadata": {
    "collapsed": true
   },
   "outputs": [],
   "source": [
    "# Пример посложнее.\n",
    "x = tf.placeholder(dtype='float32', shape=(10,))\n",
    "y = tf.placeholder(dtype='float32', shape=(10,))"
   ]
  },
  {
   "cell_type": "code",
   "execution_count": 10,
   "metadata": {
    "collapsed": true
   },
   "outputs": [],
   "source": [
    "func = 100 * tf.multiply(y,x)"
   ]
  },
  {
   "cell_type": "code",
   "execution_count": 11,
   "metadata": {},
   "outputs": [
    {
     "name": "stdout",
     "output_type": "stream",
     "text": [
      "[   0.  100.  400.  900. 1600. 2500. 3600. 4900. 6400. 8100.]\n"
     ]
    }
   ],
   "source": [
    "dummy = np.arange(10).astype('float32')\n",
    "print(func.eval({x:dummy, y:dummy}, session=sess))"
   ]
  },
  {
   "cell_type": "markdown",
   "metadata": {},
   "source": [
    "## Also, it is easy to compute gradients."
   ]
  },
  {
   "cell_type": "code",
   "execution_count": 12,
   "metadata": {},
   "outputs": [
    {
     "data": {
      "image/png": "[encoded data removed]",
      "text/plain": [
       "<matplotlib.figure.Figure at 0x7fd26de52f98>"
      ]
     },
     "metadata": {},
     "output_type": "display_data"
    }
   ],
   "source": [
    "my_scalar = tf.placeholder('float32')\n",
    "scalar_squared = my_scalar**2\n",
    "\n",
    "derivative = tf.gradients(scalar_squared, my_scalar)[0]\n",
    "\n",
    "x = np.linspace(-3,3)\n",
    "x_squared, x_squared_der = sess.run([scalar_squared,derivative],\n",
    "                                 {my_scalar:x})\n",
    "plt.plot(x, x_squared,label=\"x^2\")\n",
    "plt.plot(x, x_squared_der, label=\"derivative\")\n",
    "plt.legend();"
   ]
  },
  {
   "cell_type": "markdown",
   "metadata": {},
   "source": [
    "### This way we can automatically compute gradients even for nasty functions. It is important, that this is not a numerical differentiation, there are formulas for derivatives within tensorflow, and it goes through graph vertexes and calculate the derivative of composite function.\n"
   ]
  },
  {
   "cell_type": "markdown",
   "metadata": {},
   "source": [
    "# variables\n",
    "\n",
    "The inputs and transformations have no value outside function call. This isn't too comfortable if you want your model to have parameters (e.g. network weights) that are always present, but can change their value over time.\n",
    "\n",
    "Tensorflow solves this with `tf.Variable` objects.\n",
    "* You can assign variable a value at any time in your graph\n",
    "* Unlike placeholders, there's no need to explicitly pass values to variables when `s.run(...)`-ing\n",
    "* You can use variables the same way you use transformations "
   ]
  },
  {
   "cell_type": "code",
   "execution_count": 13,
   "metadata": {
    "collapsed": true
   },
   "outputs": [],
   "source": [
    "v_1 = tf.Variable(initial_value=np.ones(5))"
   ]
  },
  {
   "cell_type": "code",
   "execution_count": 14,
   "metadata": {},
   "outputs": [
    {
     "name": "stdout",
     "output_type": "stream",
     "text": [
      "initial value [1. 1. 1. 1. 1.]\n"
     ]
    }
   ],
   "source": [
    "#initialize variable(s) with initial values\n",
    "sess.run(tf.global_variables_initializer())\n",
    "\n",
    "#evaluating shared variable (outside symbolicd graph)\n",
    "print(\"initial value\", sess.run(v_1))\n",
    "\n",
    "# within symbolic graph you use them just as any other inout or transformation, not \"get value\" needed"
   ]
  },
  {
   "cell_type": "markdown",
   "metadata": {},
   "source": [
    "## We will make logistic regression on tensorflow."
   ]
  },
  {
   "cell_type": "code",
   "execution_count": 15,
   "metadata": {},
   "outputs": [
    {
     "name": "stdout",
     "output_type": "stream",
     "text": [
      "y [shape - (360,)]: [0 1 0 1 0 1 0 0 1 1]\n",
      "X [shape - (360, 64)]:\n"
     ]
    }
   ],
   "source": [
    "from sklearn.datasets import load_digits\n",
    "mnist = load_digits(2)\n",
    "X,y = mnist.data, mnist.target\n",
    "\n",
    "print(\"y [shape - %s]:\" % (str(y.shape)), y[:10])\n",
    "print(\"X [shape - %s]:\" % (str(X.shape)))"
   ]
  },
  {
   "cell_type": "code",
   "execution_count": 16,
   "metadata": {},
   "outputs": [
    {
     "data": {
      "text/plain": [
       "<matplotlib.image.AxesImage at 0x7fd248c992e8>"
      ]
     },
     "execution_count": 16,
     "metadata": {},
     "output_type": "execute_result"
    },
    {
     "data": {
      "image/png": "[encoded data removed]",
      "text/plain": [
       "<matplotlib.figure.Figure at 0x7fd2b4462860>"
      ]
     },
     "metadata": {},
     "output_type": "display_data"
    }
   ],
   "source": [
    "plt.imshow(X[0].reshape([8,8]))"
   ]
  },
  {
   "cell_type": "code",
   "execution_count": 24,
   "metadata": {
    "collapsed": true
   },
   "outputs": [],
   "source": [
    "weights = tf.Variable(np.zeros((64,1)), dtype='float32')\n",
    "input_X = tf.placeholder('float32', shape=(None,64))\n",
    "input_y = tf.placeholder('float32', shape=(None,1))"
   ]
  },
  {
   "cell_type": "code",
   "execution_count": 25,
   "metadata": {
    "collapsed": true
   },
   "outputs": [],
   "source": [
    "predicted_y = 1. / (1. + tf.exp(-1. * tf.matmul(input_X, weights)))\n",
    "# Why do we need this epsilon?\n",
    "epsilon = 0.005\n",
    "loss = -1. * (tf.reduce_sum( tf.multiply(input_y,tf.log( epsilon + predicted_y)) \n",
    "                            + tf.multiply((1 - input_y), tf.log(1 + epsilon - predicted_y)) ))"
   ]
  },
  {
   "cell_type": "markdown",
   "metadata": {},
   "source": [
    "### We will use optimizer instead of hand-made gradient descent."
   ]
  },
  {
   "cell_type": "code",
   "execution_count": 26,
   "metadata": {
    "collapsed": true
   },
   "outputs": [],
   "source": [
    "optimizer = tf.train.GradientDescentOptimizer(0.001, use_locking=True).minimize(loss, var_list=weights)"
   ]
  },
  {
   "cell_type": "code",
   "execution_count": 27,
   "metadata": {
    "collapsed": true
   },
   "outputs": [],
   "source": [
    "# <compile function that takes X and y, returns log loss and updates weights>\n",
    "def train_function(X, y,s=sess):    \n",
    "    X = X.reshape((batch_size,64))\n",
    "    y = y.reshape((batch_size,1))\n",
    "    s.run(optimizer, {input_X:X, input_y:y})\n",
    "    log_loss = s.run(loss, {input_X:X, input_y:y})\n",
    "    return log_loss\n",
    "    \n",
    "predict_function = lambda X: sess.run(tf.round(predicted_y), {input_X:X})"
   ]
  },
  {
   "cell_type": "code",
   "execution_count": 28,
   "metadata": {
    "collapsed": true
   },
   "outputs": [],
   "source": [
    "X_train, X_test, y_train, y_test = train_test_split(X, y)"
   ]
  },
  {
   "cell_type": "code",
   "execution_count": 29,
   "metadata": {
    "collapsed": true
   },
   "outputs": [],
   "source": [
    "sess.run(tf.global_variables_initializer())\n",
    "batch_size=20"
   ]
  },
  {
   "cell_type": "code",
   "execution_count": 30,
   "metadata": {},
   "outputs": [
    {
     "name": "stdout",
     "output_type": "stream",
     "text": [
      "loss at iter 0:10.9860\n",
      "train auc: 0.5035714285714286\n",
      "test auc: 0.513157894736842\n",
      "loss at iter 1:34.5367\n",
      "train auc: 0.5\n",
      "test auc: 0.5\n",
      "loss at iter 2:51.3124\n",
      "train auc: 0.5346153846153846\n",
      "test auc: 0.5096153846153846\n",
      "loss at iter 3:0.2706\n",
      "train auc: 0.976923076923077\n",
      "test auc: 0.9711538461538461\n",
      "loss at iter 4:0.0040\n",
      "train auc: 0.9807692307692308\n",
      "test auc: 0.9807692307692308\n",
      "loss at iter 5:0.0635\n",
      "train auc: 0.9884615384615385\n",
      "test auc: 0.9903846153846154\n",
      "loss at iter 6:-0.0486\n",
      "train auc: 0.9884615384615385\n",
      "test auc: 0.9903846153846154\n",
      "loss at iter 7:-0.0947\n",
      "train auc: 0.9884615384615385\n",
      "test auc: 0.9903846153846154\n",
      "loss at iter 8:-0.0832\n",
      "train auc: 0.9884615384615385\n",
      "test auc: 0.9903846153846154\n",
      "loss at iter 9:-0.0932\n",
      "train auc: 0.9884615384615385\n",
      "test auc: 0.9903846153846154\n",
      "resulting weights:\n"
     ]
    },
    {
     "data": {
      "text/plain": [
       "<matplotlib.image.AxesImage at 0x7fd248bd24e0>"
      ]
     },
     "execution_count": 30,
     "metadata": {},
     "output_type": "execute_result"
    },
    {
     "data": {
      "image/png": "[encoded data removed]",
      "text/plain": [
       "<matplotlib.figure.Figure at 0x7fd26e0acda0>"
      ]
     },
     "metadata": {},
     "output_type": "display_data"
    }
   ],
   "source": [
    "for i in range(10):\n",
    "    rand_list = random.sample(range(0, X_train.shape[0]), batch_size)\n",
    "    X_sample = X_train[rand_list]\n",
    "    y_sample = y_train[rand_list]\n",
    "    loss_i = train_function(X_sample, y_sample)\n",
    "    print(\"loss at iter %i:%.4f\" % (i, loss_i))\n",
    "    print(\"train auc:\",roc_auc_score(y_train, predict_function(X_train)))\n",
    "    print(\"test auc:\",roc_auc_score(y_test, predict_function(X_test)))\n",
    "\n",
    "# Посмотрим, на какие места в картинке смотрит наш классификатор.  \n",
    "print (\"resulting weights:\")\n",
    "plt.imshow(weights.eval(session=sess).reshape([8,8]))"
   ]
  },
  {
   "cell_type": "markdown",
   "metadata": {},
   "source": [
    "## Now remember that we are here fo neural networks.\n",
    "\n",
    "** More derails here: https://www.tensorflow.org/tutorials/layers **"
   ]
  },
  {
   "cell_type": "markdown",
   "metadata": {},
   "source": [
    "\n",
    "1) Convolutional Layer #1: Applies 32 5x5 filters (extracting 5x5-pixel subregions), with ReLU activation function\n",
    "\n",
    "2) Pooling Layer #1: Performs max pooling with a 2x2 filter and stride of 2 (which specifies that pooled regions do not overlap)\n",
    "\n",
    "3) Convolutional Layer #2: Applies 64 5x5 filters, with ReLU activation function\n",
    "\n",
    "4) Pooling Layer #2: Again, performs max pooling with a 2x2 filter and stride of 2\n",
    "\n",
    "5) Dense Layer #1: 1,024 neurons, with dropout regularization rate of 0.4 (probability of 0.4 that any given element will be dropped during training)\n",
    "\n",
    "6) Dense Layer #2 (Logits Layer): 10 neurons, one for each digit target class (0–9). "
   ]
  },
  {
   "cell_type": "code",
   "execution_count": 5,
   "metadata": {},
   "outputs": [
    {
     "name": "stdout",
     "output_type": "stream",
     "text": [
      "Extracting MNIST-data/train-images-idx3-ubyte.gz\n",
      "Extracting MNIST-data/train-labels-idx1-ubyte.gz\n",
      "Extracting MNIST-data/t10k-images-idx3-ubyte.gz\n",
      "Extracting MNIST-data/t10k-labels-idx1-ubyte.gz\n"
     ]
    }
   ],
   "source": [
    "mnist = tf.contrib.learn.datasets.load_dataset(\"mnist\")"
   ]
  },
  {
   "cell_type": "code",
   "execution_count": 6,
   "metadata": {
    "collapsed": true
   },
   "outputs": [],
   "source": [
    "# Load training and eval data\n",
    "train_data = mnist.train.images # Returns np.array\n",
    "train_labels = np.asarray(mnist.train.labels, dtype=np.int32)\n",
    "eval_data = mnist.test.images # Returns np.array\n",
    "eval_labels = np.asarray(mnist.test.labels, dtype=np.int32)"
   ]
  },
  {
   "cell_type": "code",
   "execution_count": 33,
   "metadata": {},
   "outputs": [
    {
     "name": "stdout",
     "output_type": "stream",
     "text": [
      "Train shape (55000, 784) , target shape (55000,)\n"
     ]
    }
   ],
   "source": [
    "print('Train shape', train_data.shape, ', target shape', train_labels.shape)"
   ]
  },
  {
   "cell_type": "code",
   "execution_count": 34,
   "metadata": {
    "collapsed": true
   },
   "outputs": [],
   "source": [
    "visible = train_data.reshape((train_data.shape[0], 28, 28))"
   ]
  },
  {
   "cell_type": "code",
   "execution_count": 35,
   "metadata": {},
   "outputs": [
    {
     "data": {
      "image/png": "[encoded data removed]",
      "text/plain": [
       "<matplotlib.figure.Figure at 0x7fd241e40c88>"
      ]
     },
     "metadata": {},
     "output_type": "display_data"
    }
   ],
   "source": [
    "fig, axes = plt.subplots(nrows=1, ncols=7, figsize=(20, 20))\n",
    "\n",
    "for i, ax in enumerate(axes):\n",
    "    ax.imshow(visible[i], cmap='gray')"
   ]
  },
  {
   "cell_type": "code",
   "execution_count": 124,
   "metadata": {
    "collapsed": true
   },
   "outputs": [],
   "source": [
    "# Построим модель.\n",
    "def cnn_model_fn(features, labels, mode):\n",
    "    \"\"\"Model function for CNN.\"\"\"\n",
    "    # Input Layer\n",
    "    input_layer = tf.reshape(features[\"x\"], [-1, 28, 28, 1])\n",
    "\n",
    "    # Convolutional Layer #1\n",
    "    conv1 = tf.layers.conv2d(\n",
    "        inputs=input_layer,\n",
    "        filters=32,\n",
    "        kernel_size=[5, 5],\n",
    "        padding=\"same\",\n",
    "        activation=tf.nn.relu)\n",
    "\n",
    "    # Pooling Layer #1\n",
    "    pool1 = tf.layers.max_pooling2d(inputs=conv1, pool_size=[2, 2], strides=2)\n",
    "\n",
    "    # Convolutional Layer #2 and Pooling Layer #2\n",
    "    conv2 = tf.layers.conv2d(\n",
    "        inputs=pool1,\n",
    "        filters=64,\n",
    "        kernel_size=[5, 5],\n",
    "        padding=\"same\",\n",
    "        activation=tf.nn.relu)\n",
    "    pool2 = tf.layers.max_pooling2d(inputs=conv2, pool_size=[2, 2], strides=2)\n",
    "\n",
    "    # Dense Layer\n",
    "    pool2_flat = tf.reshape(pool2, [-1, 7 * 7 * 64])\n",
    "    dense = tf.layers.dense(inputs=pool2_flat, units=1024, activation=tf.nn.relu)\n",
    "    dropout = tf.layers.dropout(\n",
    "        inputs=dense, rate=0.4, training=mode == tf.estimator.ModeKeys.TRAIN)\n",
    "\n",
    "    # Logits Layer\n",
    "    logits = tf.layers.dense(inputs=dropout, units=10)\n",
    "\n",
    "    predictions = {\n",
    "        # Generate predictions (for PREDICT and EVAL mode)\n",
    "        \"classes\": tf.argmax(input=logits, axis=1),\n",
    "        # Add `softmax_tensor` to the graph. It is used for PREDICT and by the\n",
    "        # `logging_hook`.\n",
    "        \"probabilities\": tf.nn.softmax(logits, name=\"softmax_tensor\")\n",
    "    }\n",
    "\n",
    "    if mode == tf.estimator.ModeKeys.PREDICT:\n",
    "        return tf.estimator.EstimatorSpec(mode=mode, predictions=predictions)\n",
    "\n",
    "    # Calculate Loss (for both TRAIN and EVAL modes)\n",
    "    loss = tf.losses.sparse_softmax_cross_entropy(labels=labels, logits=logits)\n",
    "\n",
    "    # Configure the Training Op (for TRAIN mode)\n",
    "    if mode == tf.estimator.ModeKeys.TRAIN:\n",
    "        optimizer = tf.train.GradientDescentOptimizer(learning_rate=0.001)\n",
    "        train_op = optimizer.minimize(\n",
    "            loss=loss,\n",
    "            global_step=tf.train.get_global_step())\n",
    "        return tf.estimator.EstimatorSpec(mode=mode, loss=loss, train_op=train_op)\n",
    "\n",
    "    # Add evaluation metrics (for EVAL mode)\n",
    "    eval_metric_ops = {\n",
    "        \"accuracy\": tf.metrics.accuracy(\n",
    "            labels=labels, predictions=predictions[\"classes\"])}\n",
    "    return tf.estimator.EstimatorSpec(\n",
    "        mode=mode, loss=loss, eval_metric_ops=eval_metric_ops)"
   ]
  },
  {
   "cell_type": "code",
   "execution_count": 125,
   "metadata": {},
   "outputs": [
    {
     "name": "stdout",
     "output_type": "stream",
     "text": [
      "INFO:tensorflow:Using default config.\n",
      "INFO:tensorflow:Using config: {'_model_dir': '/tmp/mnist_convnet_model', '_tf_random_seed': 1, '_save_summary_steps': 100, '_save_checkpoints_secs': 600, '_save_checkpoints_steps': None, '_session_config': None, '_keep_checkpoint_max': 5, '_keep_checkpoint_every_n_hours': 10000, '_log_step_count_steps': 100}\n"
     ]
    }
   ],
   "source": [
    "# Create the Estimator\n",
    "mnist_classifier = tf.estimator.Estimator(\n",
    "    model_fn=cnn_model_fn, model_dir=\"/tmp/mnist_convnet_model\")"
   ]
  },
  {
   "cell_type": "code",
   "execution_count": 127,
   "metadata": {},
   "outputs": [
    {
     "name": "stdout",
     "output_type": "stream",
     "text": [
      "CPU times: user 0 ns, sys: 0 ns, total: 0 ns\n",
      "Wall time: 30.5 µs\n",
      "INFO:tensorflow:Create CheckpointSaverHook.\n",
      "INFO:tensorflow:Restoring parameters from /tmp/mnist_convnet_model/model.ckpt-1003\n",
      "INFO:tensorflow:Saving checkpoints for 1004 into /tmp/mnist_convnet_model/model.ckpt.\n",
      "INFO:tensorflow:loss = 1.89851, step = 1004\n",
      "INFO:tensorflow:global_step/sec: 12.9139\n",
      "INFO:tensorflow:loss = 1.65035, step = 1104 (7.748 sec)\n",
      "INFO:tensorflow:global_step/sec: 12.9727\n",
      "INFO:tensorflow:loss = 1.62144, step = 1204 (7.707 sec)\n",
      "INFO:tensorflow:global_step/sec: 12.7631\n",
      "INFO:tensorflow:loss = 1.35541, step = 1304 (7.834 sec)\n",
      "INFO:tensorflow:global_step/sec: 12.2649\n",
      "INFO:tensorflow:loss = 1.23108, step = 1404 (8.153 sec)\n",
      "INFO:tensorflow:global_step/sec: 11.7591\n",
      "INFO:tensorflow:loss = 1.12323, step = 1504 (8.504 sec)\n",
      "INFO:tensorflow:global_step/sec: 12.5315\n",
      "INFO:tensorflow:loss = 0.969237, step = 1604 (7.980 sec)\n",
      "INFO:tensorflow:global_step/sec: 12.9438\n",
      "INFO:tensorflow:loss = 0.992188, step = 1704 (7.726 sec)\n",
      "INFO:tensorflow:global_step/sec: 12.9933\n",
      "INFO:tensorflow:loss = 0.896129, step = 1804 (7.699 sec)\n",
      "INFO:tensorflow:global_step/sec: 12.9895\n",
      "INFO:tensorflow:loss = 0.780635, step = 1904 (7.697 sec)\n",
      "INFO:tensorflow:global_step/sec: 12.4707\n",
      "INFO:tensorflow:loss = 0.757839, step = 2004 (8.017 sec)\n",
      "INFO:tensorflow:global_step/sec: 10.8445\n",
      "INFO:tensorflow:loss = 0.699794, step = 2104 (9.222 sec)\n",
      "INFO:tensorflow:global_step/sec: 12.5179\n",
      "INFO:tensorflow:loss = 0.612945, step = 2204 (7.988 sec)\n",
      "INFO:tensorflow:global_step/sec: 11.8251\n",
      "INFO:tensorflow:loss = 0.518386, step = 2304 (8.457 sec)\n",
      "INFO:tensorflow:global_step/sec: 12.1517\n",
      "INFO:tensorflow:loss = 0.733829, step = 2404 (8.230 sec)\n",
      "INFO:tensorflow:global_step/sec: 12.8236\n",
      "INFO:tensorflow:loss = 0.664837, step = 2504 (7.798 sec)\n",
      "INFO:tensorflow:global_step/sec: 12.7442\n",
      "INFO:tensorflow:loss = 0.643316, step = 2604 (7.847 sec)\n",
      "INFO:tensorflow:global_step/sec: 11.847\n",
      "INFO:tensorflow:loss = 0.528361, step = 2704 (8.440 sec)\n",
      "INFO:tensorflow:global_step/sec: 12.4246\n",
      "INFO:tensorflow:loss = 0.485806, step = 2804 (8.049 sec)\n",
      "INFO:tensorflow:global_step/sec: 13.0302\n",
      "INFO:tensorflow:loss = 0.505021, step = 2904 (7.674 sec)\n",
      "INFO:tensorflow:global_step/sec: 13.0177\n",
      "INFO:tensorflow:loss = 0.459354, step = 3004 (7.681 sec)\n",
      "INFO:tensorflow:global_step/sec: 13.0393\n",
      "INFO:tensorflow:loss = 0.351384, step = 3104 (7.671 sec)\n",
      "INFO:tensorflow:global_step/sec: 13.0175\n",
      "INFO:tensorflow:loss = 0.504812, step = 3204 (7.681 sec)\n",
      "INFO:tensorflow:global_step/sec: 12.9779\n",
      "INFO:tensorflow:loss = 0.511359, step = 3304 (7.705 sec)\n",
      "INFO:tensorflow:global_step/sec: 13.0389\n",
      "INFO:tensorflow:loss = 0.583501, step = 3404 (7.671 sec)\n",
      "INFO:tensorflow:global_step/sec: 12.9231\n",
      "INFO:tensorflow:loss = 0.429777, step = 3504 (7.736 sec)\n",
      "INFO:tensorflow:global_step/sec: 13.0131\n",
      "INFO:tensorflow:loss = 0.505927, step = 3604 (7.686 sec)\n",
      "INFO:tensorflow:global_step/sec: 12.8498\n",
      "INFO:tensorflow:loss = 0.43069, step = 3704 (7.780 sec)\n",
      "INFO:tensorflow:global_step/sec: 13.0379\n",
      "INFO:tensorflow:loss = 0.38829, step = 3804 (7.672 sec)\n",
      "INFO:tensorflow:global_step/sec: 12.9512\n",
      "INFO:tensorflow:loss = 0.325429, step = 3904 (7.719 sec)\n",
      "INFO:tensorflow:global_step/sec: 12.9296\n",
      "INFO:tensorflow:loss = 0.499772, step = 4004 (7.735 sec)\n",
      "INFO:tensorflow:global_step/sec: 13.0005\n",
      "INFO:tensorflow:loss = 0.374495, step = 4104 (7.692 sec)\n",
      "INFO:tensorflow:global_step/sec: 12.941\n",
      "INFO:tensorflow:loss = 0.349984, step = 4204 (7.729 sec)\n",
      "INFO:tensorflow:global_step/sec: 12.9674\n",
      "INFO:tensorflow:loss = 0.310932, step = 4304 (7.711 sec)\n",
      "INFO:tensorflow:global_step/sec: 12.7784\n",
      "INFO:tensorflow:loss = 0.279076, step = 4404 (7.827 sec)\n",
      "INFO:tensorflow:global_step/sec: 12.6517\n",
      "INFO:tensorflow:loss = 0.307242, step = 4504 (7.902 sec)\n",
      "INFO:tensorflow:global_step/sec: 12.9662\n",
      "INFO:tensorflow:loss = 0.196299, step = 4604 (7.714 sec)\n",
      "INFO:tensorflow:global_step/sec: 12.9506\n",
      "INFO:tensorflow:loss = 0.448266, step = 4704 (7.720 sec)\n",
      "INFO:tensorflow:global_step/sec: 12.8505\n",
      "INFO:tensorflow:loss = 0.327201, step = 4804 (7.782 sec)\n",
      "INFO:tensorflow:global_step/sec: 13.007\n",
      "INFO:tensorflow:loss = 0.416738, step = 4904 (7.690 sec)\n",
      "INFO:tensorflow:global_step/sec: 12.9192\n",
      "INFO:tensorflow:loss = 0.233762, step = 5004 (7.739 sec)\n",
      "INFO:tensorflow:global_step/sec: 12.8981\n",
      "INFO:tensorflow:loss = 0.328085, step = 5104 (7.752 sec)\n",
      "INFO:tensorflow:global_step/sec: 12.9433\n",
      "INFO:tensorflow:loss = 0.417104, step = 5204 (7.728 sec)\n",
      "INFO:tensorflow:global_step/sec: 12.6449\n",
      "INFO:tensorflow:loss = 0.241331, step = 5304 (7.909 sec)\n",
      "INFO:tensorflow:global_step/sec: 12.6176\n",
      "INFO:tensorflow:loss = 0.363932, step = 5404 (7.925 sec)\n",
      "INFO:tensorflow:global_step/sec: 12.8337\n",
      "INFO:tensorflow:loss = 0.268502, step = 5504 (7.791 sec)\n",
      "INFO:tensorflow:global_step/sec: 12.9314\n",
      "INFO:tensorflow:loss = 0.228924, step = 5604 (7.734 sec)\n",
      "INFO:tensorflow:global_step/sec: 12.9465\n",
      "INFO:tensorflow:loss = 0.309918, step = 5704 (7.724 sec)\n",
      "INFO:tensorflow:global_step/sec: 12.948\n",
      "INFO:tensorflow:loss = 0.446995, step = 5804 (7.722 sec)\n",
      "INFO:tensorflow:global_step/sec: 12.7043\n",
      "INFO:tensorflow:loss = 0.307334, step = 5904 (7.875 sec)\n",
      "INFO:tensorflow:global_step/sec: 12.5625\n",
      "INFO:tensorflow:loss = 0.306492, step = 6004 (7.959 sec)\n",
      "INFO:tensorflow:global_step/sec: 12.7959\n",
      "INFO:tensorflow:loss = 0.268721, step = 6104 (7.812 sec)\n",
      "INFO:tensorflow:global_step/sec: 12.8332\n",
      "INFO:tensorflow:loss = 0.351746, step = 6204 (7.794 sec)\n",
      "INFO:tensorflow:global_step/sec: 12.9061\n",
      "INFO:tensorflow:loss = 0.2184, step = 6304 (7.748 sec)\n",
      "INFO:tensorflow:global_step/sec: 12.9852\n",
      "INFO:tensorflow:loss = 0.177249, step = 6404 (7.700 sec)\n",
      "INFO:tensorflow:global_step/sec: 13.0516\n",
      "INFO:tensorflow:loss = 0.452351, step = 6504 (7.661 sec)\n",
      "INFO:tensorflow:global_step/sec: 12.914\n",
      "INFO:tensorflow:loss = 0.254755, step = 6604 (7.745 sec)\n",
      "INFO:tensorflow:global_step/sec: 12.9722\n",
      "INFO:tensorflow:loss = 0.316046, step = 6704 (7.708 sec)\n",
      "INFO:tensorflow:global_step/sec: 12.8775\n",
      "INFO:tensorflow:loss = 0.325945, step = 6804 (7.765 sec)\n",
      "INFO:tensorflow:global_step/sec: 12.9818\n",
      "INFO:tensorflow:loss = 0.227326, step = 6904 (7.703 sec)\n",
      "INFO:tensorflow:global_step/sec: 12.9191\n",
      "INFO:tensorflow:loss = 0.280902, step = 7004 (7.740 sec)\n",
      "INFO:tensorflow:global_step/sec: 12.916\n",
      "INFO:tensorflow:loss = 0.292519, step = 7104 (7.745 sec)\n",
      "INFO:tensorflow:global_step/sec: 12.5996\n",
      "INFO:tensorflow:loss = 0.255511, step = 7204 (7.937 sec)\n",
      "INFO:tensorflow:global_step/sec: 12.7191\n",
      "INFO:tensorflow:loss = 0.256908, step = 7304 (7.862 sec)\n",
      "INFO:tensorflow:global_step/sec: 12.7963\n",
      "INFO:tensorflow:loss = 0.183298, step = 7404 (7.814 sec)\n",
      "INFO:tensorflow:global_step/sec: 12.9097\n",
      "INFO:tensorflow:loss = 0.303567, step = 7504 (7.748 sec)\n",
      "INFO:tensorflow:global_step/sec: 12.9269\n",
      "INFO:tensorflow:loss = 0.256725, step = 7604 (7.735 sec)\n",
      "INFO:tensorflow:global_step/sec: 12.9484\n",
      "INFO:tensorflow:loss = 0.230007, step = 7704 (7.723 sec)\n",
      "INFO:tensorflow:global_step/sec: 12.786\n",
      "INFO:tensorflow:loss = 0.219981, step = 7804 (7.819 sec)\n",
      "INFO:tensorflow:global_step/sec: 13.0316\n",
      "INFO:tensorflow:loss = 0.207048, step = 7904 (7.674 sec)\n",
      "INFO:tensorflow:global_step/sec: 12.8529\n",
      "INFO:tensorflow:loss = 0.220102, step = 8004 (7.781 sec)\n",
      "INFO:tensorflow:global_step/sec: 12.9284\n",
      "INFO:tensorflow:loss = 0.257394, step = 8104 (7.736 sec)\n",
      "INFO:tensorflow:global_step/sec: 12.6365\n",
      "INFO:tensorflow:loss = 0.192312, step = 8204 (7.914 sec)\n",
      "INFO:tensorflow:global_step/sec: 12.8569\n",
      "INFO:tensorflow:loss = 0.191089, step = 8304 (7.776 sec)\n",
      "INFO:tensorflow:global_step/sec: 12.9781\n",
      "INFO:tensorflow:loss = 0.176683, step = 8404 (7.707 sec)\n",
      "INFO:tensorflow:global_step/sec: 12.8092\n",
      "INFO:tensorflow:loss = 0.226209, step = 8504 (7.806 sec)\n",
      "INFO:tensorflow:global_step/sec: 13.007\n",
      "INFO:tensorflow:loss = 0.223059, step = 8604 (7.687 sec)\n",
      "INFO:tensorflow:Saving checkpoints for 8669 into /tmp/mnist_convnet_model/model.ckpt.\n",
      "INFO:tensorflow:global_step/sec: 12.844\n",
      "INFO:tensorflow:loss = 0.319387, step = 8704 (7.788 sec)\n",
      "INFO:tensorflow:global_step/sec: 12.6044\n",
      "INFO:tensorflow:loss = 0.109491, step = 8804 (7.935 sec)\n",
      "INFO:tensorflow:global_step/sec: 12.3701\n",
      "INFO:tensorflow:loss = 0.145932, step = 8904 (8.082 sec)\n",
      "INFO:tensorflow:global_step/sec: 12.6317\n",
      "INFO:tensorflow:loss = 0.197938, step = 9004 (7.917 sec)\n"
     ]
    },
    {
     "name": "stdout",
     "output_type": "stream",
     "text": [
      "INFO:tensorflow:global_step/sec: 12.7952\n",
      "INFO:tensorflow:loss = 0.28596, step = 9104 (7.814 sec)\n",
      "INFO:tensorflow:global_step/sec: 12.7091\n",
      "INFO:tensorflow:loss = 0.207015, step = 9204 (7.871 sec)\n",
      "INFO:tensorflow:global_step/sec: 12.7865\n",
      "INFO:tensorflow:loss = 0.0907497, step = 9304 (7.818 sec)\n",
      "INFO:tensorflow:global_step/sec: 12.9872\n",
      "INFO:tensorflow:loss = 0.189908, step = 9404 (7.700 sec)\n",
      "INFO:tensorflow:global_step/sec: 12.4411\n",
      "INFO:tensorflow:loss = 0.229828, step = 9504 (8.038 sec)\n",
      "INFO:tensorflow:global_step/sec: 12.6925\n",
      "INFO:tensorflow:loss = 0.216801, step = 9604 (7.881 sec)\n",
      "INFO:tensorflow:global_step/sec: 11.8007\n",
      "INFO:tensorflow:loss = 0.221563, step = 9704 (8.475 sec)\n",
      "INFO:tensorflow:global_step/sec: 12.487\n",
      "INFO:tensorflow:loss = 0.199536, step = 9804 (8.006 sec)\n",
      "INFO:tensorflow:global_step/sec: 12.4682\n",
      "INFO:tensorflow:loss = 0.0977587, step = 9904 (8.022 sec)\n",
      "INFO:tensorflow:global_step/sec: 12.5917\n",
      "INFO:tensorflow:loss = 0.210455, step = 10004 (7.940 sec)\n",
      "INFO:tensorflow:global_step/sec: 12.6033\n",
      "INFO:tensorflow:loss = 0.194531, step = 10104 (7.934 sec)\n",
      "INFO:tensorflow:global_step/sec: 12.6991\n",
      "INFO:tensorflow:loss = 0.257555, step = 10204 (7.875 sec)\n",
      "INFO:tensorflow:global_step/sec: 12.81\n",
      "INFO:tensorflow:loss = 0.198705, step = 10304 (7.807 sec)\n",
      "INFO:tensorflow:global_step/sec: 12.714\n",
      "INFO:tensorflow:loss = 0.135502, step = 10404 (7.865 sec)\n",
      "INFO:tensorflow:global_step/sec: 12.4243\n",
      "INFO:tensorflow:loss = 0.367663, step = 10504 (8.053 sec)\n",
      "INFO:tensorflow:global_step/sec: 12.8342\n",
      "INFO:tensorflow:loss = 0.145507, step = 10604 (7.786 sec)\n",
      "INFO:tensorflow:global_step/sec: 12.8302\n",
      "INFO:tensorflow:loss = 0.207972, step = 10704 (7.795 sec)\n",
      "INFO:tensorflow:global_step/sec: 12.7743\n",
      "INFO:tensorflow:loss = 0.126982, step = 10804 (7.829 sec)\n",
      "INFO:tensorflow:global_step/sec: 12.8419\n",
      "INFO:tensorflow:loss = 0.204934, step = 10904 (7.786 sec)\n",
      "INFO:tensorflow:global_step/sec: 12.9023\n",
      "INFO:tensorflow:loss = 0.2114, step = 11004 (7.752 sec)\n",
      "INFO:tensorflow:global_step/sec: 12.7687\n",
      "INFO:tensorflow:loss = 0.199492, step = 11104 (7.831 sec)\n",
      "INFO:tensorflow:global_step/sec: 12.8117\n",
      "INFO:tensorflow:loss = 0.232841, step = 11204 (7.804 sec)\n",
      "INFO:tensorflow:global_step/sec: 12.8538\n",
      "INFO:tensorflow:loss = 0.339035, step = 11304 (7.781 sec)\n",
      "INFO:tensorflow:global_step/sec: 12.6866\n",
      "INFO:tensorflow:loss = 0.216816, step = 11404 (7.883 sec)\n",
      "INFO:tensorflow:global_step/sec: 12.8821\n",
      "INFO:tensorflow:loss = 0.190056, step = 11504 (7.760 sec)\n",
      "INFO:tensorflow:global_step/sec: 12.8383\n",
      "INFO:tensorflow:loss = 0.104299, step = 11604 (7.789 sec)\n",
      "INFO:tensorflow:global_step/sec: 12.9474\n",
      "INFO:tensorflow:loss = 0.157498, step = 11704 (7.723 sec)\n",
      "INFO:tensorflow:global_step/sec: 12.9155\n",
      "INFO:tensorflow:loss = 0.147599, step = 11804 (7.743 sec)\n",
      "INFO:tensorflow:global_step/sec: 12.8464\n",
      "INFO:tensorflow:loss = 0.226005, step = 11904 (7.784 sec)\n",
      "INFO:tensorflow:global_step/sec: 12.5079\n",
      "INFO:tensorflow:loss = 0.237199, step = 12004 (7.997 sec)\n",
      "INFO:tensorflow:global_step/sec: 12.5659\n",
      "INFO:tensorflow:loss = 0.227875, step = 12104 (7.958 sec)\n",
      "INFO:tensorflow:global_step/sec: 12.8264\n",
      "INFO:tensorflow:loss = 0.225853, step = 12204 (7.798 sec)\n",
      "INFO:tensorflow:global_step/sec: 12.9781\n",
      "INFO:tensorflow:loss = 0.141329, step = 12304 (7.705 sec)\n",
      "INFO:tensorflow:global_step/sec: 12.7064\n",
      "INFO:tensorflow:loss = 0.309014, step = 12404 (7.868 sec)\n",
      "INFO:tensorflow:global_step/sec: 12.952\n",
      "INFO:tensorflow:loss = 0.289247, step = 12504 (7.722 sec)\n",
      "INFO:tensorflow:global_step/sec: 12.8961\n",
      "INFO:tensorflow:loss = 0.108463, step = 12604 (7.753 sec)\n",
      "INFO:tensorflow:global_step/sec: 12.8217\n",
      "INFO:tensorflow:loss = 0.177539, step = 12704 (7.802 sec)\n",
      "INFO:tensorflow:global_step/sec: 12.819\n",
      "INFO:tensorflow:loss = 0.183283, step = 12804 (7.798 sec)\n",
      "INFO:tensorflow:global_step/sec: 12.9332\n",
      "INFO:tensorflow:loss = 0.376712, step = 12904 (7.732 sec)\n",
      "INFO:tensorflow:global_step/sec: 12.8977\n",
      "INFO:tensorflow:loss = 0.112644, step = 13004 (7.755 sec)\n",
      "INFO:tensorflow:global_step/sec: 12.8703\n",
      "INFO:tensorflow:loss = 0.255392, step = 13104 (7.770 sec)\n",
      "INFO:tensorflow:global_step/sec: 12.8048\n",
      "INFO:tensorflow:loss = 0.182739, step = 13204 (7.809 sec)\n",
      "INFO:tensorflow:global_step/sec: 12.9183\n",
      "INFO:tensorflow:loss = 0.0755586, step = 13304 (7.742 sec)\n",
      "INFO:tensorflow:global_step/sec: 12.6924\n",
      "INFO:tensorflow:loss = 0.206873, step = 13404 (7.878 sec)\n",
      "INFO:tensorflow:global_step/sec: 12.6248\n",
      "INFO:tensorflow:loss = 0.1424, step = 13504 (7.920 sec)\n",
      "INFO:tensorflow:global_step/sec: 12.8036\n",
      "INFO:tensorflow:loss = 0.126291, step = 13604 (7.811 sec)\n",
      "INFO:tensorflow:global_step/sec: 12.911\n",
      "INFO:tensorflow:loss = 0.146881, step = 13704 (7.744 sec)\n",
      "INFO:tensorflow:global_step/sec: 12.9537\n",
      "INFO:tensorflow:loss = 0.220318, step = 13804 (7.720 sec)\n",
      "INFO:tensorflow:global_step/sec: 12.8818\n",
      "INFO:tensorflow:loss = 0.222037, step = 13904 (7.764 sec)\n",
      "INFO:tensorflow:global_step/sec: 12.6606\n",
      "INFO:tensorflow:loss = 0.209262, step = 14004 (7.901 sec)\n",
      "INFO:tensorflow:global_step/sec: 12.4177\n",
      "INFO:tensorflow:loss = 0.0942077, step = 14104 (8.052 sec)\n",
      "INFO:tensorflow:global_step/sec: 12.7314\n",
      "INFO:tensorflow:loss = 0.173896, step = 14204 (7.854 sec)\n",
      "INFO:tensorflow:global_step/sec: 12.8887\n",
      "INFO:tensorflow:loss = 0.175815, step = 14304 (7.759 sec)\n",
      "INFO:tensorflow:global_step/sec: 12.5766\n",
      "INFO:tensorflow:loss = 0.180951, step = 14404 (7.951 sec)\n",
      "INFO:tensorflow:global_step/sec: 12.8652\n",
      "INFO:tensorflow:loss = 0.283812, step = 14504 (7.773 sec)\n",
      "INFO:tensorflow:global_step/sec: 12.7166\n",
      "INFO:tensorflow:loss = 0.149656, step = 14604 (7.866 sec)\n",
      "INFO:tensorflow:global_step/sec: 12.7163\n",
      "INFO:tensorflow:loss = 0.146403, step = 14704 (7.862 sec)\n",
      "INFO:tensorflow:global_step/sec: 12.8889\n",
      "INFO:tensorflow:loss = 0.137953, step = 14804 (7.758 sec)\n",
      "INFO:tensorflow:global_step/sec: 12.9259\n",
      "INFO:tensorflow:loss = 0.217984, step = 14904 (7.736 sec)\n",
      "INFO:tensorflow:global_step/sec: 12.899\n",
      "INFO:tensorflow:loss = 0.153224, step = 15004 (7.754 sec)\n",
      "INFO:tensorflow:global_step/sec: 12.841\n",
      "INFO:tensorflow:loss = 0.159642, step = 15104 (7.786 sec)\n",
      "INFO:tensorflow:global_step/sec: 12.8127\n",
      "INFO:tensorflow:loss = 0.169897, step = 15204 (7.806 sec)\n",
      "INFO:tensorflow:global_step/sec: 12.7473\n",
      "INFO:tensorflow:loss = 0.110624, step = 15304 (7.843 sec)\n",
      "INFO:tensorflow:global_step/sec: 12.6527\n",
      "INFO:tensorflow:loss = 0.108508, step = 15404 (7.904 sec)\n",
      "INFO:tensorflow:global_step/sec: 12.9195\n",
      "INFO:tensorflow:loss = 0.103384, step = 15504 (7.740 sec)\n",
      "INFO:tensorflow:global_step/sec: 12.937\n",
      "INFO:tensorflow:loss = 0.225876, step = 15604 (7.729 sec)\n",
      "INFO:tensorflow:global_step/sec: 12.9019\n",
      "INFO:tensorflow:loss = 0.137668, step = 15704 (7.753 sec)\n",
      "INFO:tensorflow:global_step/sec: 12.6442\n",
      "INFO:tensorflow:loss = 0.0564339, step = 15804 (7.909 sec)\n",
      "INFO:tensorflow:global_step/sec: 12.9025\n",
      "INFO:tensorflow:loss = 0.0909148, step = 15904 (7.750 sec)\n",
      "INFO:tensorflow:global_step/sec: 12.907\n",
      "INFO:tensorflow:loss = 0.12912, step = 16004 (7.747 sec)\n",
      "INFO:tensorflow:global_step/sec: 12.6715\n",
      "INFO:tensorflow:loss = 0.141256, step = 16104 (7.894 sec)\n",
      "INFO:tensorflow:global_step/sec: 12.7059\n",
      "INFO:tensorflow:loss = 0.175626, step = 16204 (7.869 sec)\n",
      "INFO:tensorflow:global_step/sec: 12.9109\n",
      "INFO:tensorflow:loss = 0.0621087, step = 16304 (7.745 sec)\n",
      "INFO:tensorflow:Saving checkpoints for 16322 into /tmp/mnist_convnet_model/model.ckpt.\n",
      "INFO:tensorflow:global_step/sec: 12.6079\n",
      "INFO:tensorflow:loss = 0.251031, step = 16404 (7.932 sec)\n",
      "INFO:tensorflow:global_step/sec: 12.6924\n",
      "INFO:tensorflow:loss = 0.249404, step = 16504 (7.877 sec)\n",
      "INFO:tensorflow:global_step/sec: 12.0557\n",
      "INFO:tensorflow:loss = 0.158537, step = 16604 (8.304 sec)\n",
      "INFO:tensorflow:global_step/sec: 12.1773\n",
      "INFO:tensorflow:loss = 0.121636, step = 16704 (8.203 sec)\n",
      "INFO:tensorflow:global_step/sec: 11.5208\n",
      "INFO:tensorflow:loss = 0.130576, step = 16804 (8.682 sec)\n",
      "INFO:tensorflow:global_step/sec: 11.1388\n",
      "INFO:tensorflow:loss = 0.126521, step = 16904 (8.976 sec)\n",
      "INFO:tensorflow:global_step/sec: 11.4634\n",
      "INFO:tensorflow:loss = 0.148723, step = 17004 (8.726 sec)\n",
      "INFO:tensorflow:global_step/sec: 11.1071\n",
      "INFO:tensorflow:loss = 0.107069, step = 17104 (9.001 sec)\n",
      "INFO:tensorflow:global_step/sec: 12.0092\n",
      "INFO:tensorflow:loss = 0.11372, step = 17204 (8.327 sec)\n",
      "INFO:tensorflow:global_step/sec: 12.4957\n"
     ]
    },
    {
     "name": "stdout",
     "output_type": "stream",
     "text": [
      "INFO:tensorflow:loss = 0.112831, step = 17304 (8.001 sec)\n",
      "INFO:tensorflow:global_step/sec: 12.412\n",
      "INFO:tensorflow:loss = 0.0434363, step = 17404 (8.059 sec)\n",
      "INFO:tensorflow:global_step/sec: 12.4618\n",
      "INFO:tensorflow:loss = 0.10587, step = 17504 (8.023 sec)\n",
      "INFO:tensorflow:global_step/sec: 11.1179\n",
      "INFO:tensorflow:loss = 0.135308, step = 17604 (8.994 sec)\n",
      "INFO:tensorflow:global_step/sec: 11.4086\n",
      "INFO:tensorflow:loss = 0.153014, step = 17704 (8.766 sec)\n",
      "INFO:tensorflow:global_step/sec: 12.4287\n",
      "INFO:tensorflow:loss = 0.114052, step = 17804 (8.046 sec)\n",
      "INFO:tensorflow:global_step/sec: 12.1165\n",
      "INFO:tensorflow:loss = 0.283811, step = 17904 (8.253 sec)\n",
      "INFO:tensorflow:global_step/sec: 11.3537\n",
      "INFO:tensorflow:loss = 0.105026, step = 18004 (8.807 sec)\n",
      "INFO:tensorflow:global_step/sec: 11.9452\n",
      "INFO:tensorflow:loss = 0.134645, step = 18104 (8.372 sec)\n",
      "INFO:tensorflow:global_step/sec: 11.7792\n",
      "INFO:tensorflow:loss = 0.283455, step = 18204 (8.490 sec)\n",
      "INFO:tensorflow:global_step/sec: 11.8543\n",
      "INFO:tensorflow:loss = 0.131212, step = 18304 (8.435 sec)\n",
      "INFO:tensorflow:global_step/sec: 12.3218\n",
      "INFO:tensorflow:loss = 0.0782614, step = 18404 (8.115 sec)\n",
      "INFO:tensorflow:global_step/sec: 12.4394\n",
      "INFO:tensorflow:loss = 0.17098, step = 18504 (8.040 sec)\n",
      "INFO:tensorflow:global_step/sec: 12.3373\n",
      "INFO:tensorflow:loss = 0.213785, step = 18604 (8.103 sec)\n",
      "INFO:tensorflow:global_step/sec: 12.7021\n",
      "INFO:tensorflow:loss = 0.0787921, step = 18704 (7.873 sec)\n",
      "INFO:tensorflow:global_step/sec: 12.5326\n",
      "INFO:tensorflow:loss = 0.224054, step = 18804 (7.981 sec)\n",
      "INFO:tensorflow:global_step/sec: 11.7805\n",
      "INFO:tensorflow:loss = 0.250893, step = 18904 (8.490 sec)\n",
      "INFO:tensorflow:global_step/sec: 12.4284\n",
      "INFO:tensorflow:loss = 0.219046, step = 19004 (8.043 sec)\n",
      "INFO:tensorflow:global_step/sec: 12.3831\n",
      "INFO:tensorflow:loss = 0.17906, step = 19104 (8.079 sec)\n",
      "INFO:tensorflow:global_step/sec: 12.3916\n",
      "INFO:tensorflow:loss = 0.177283, step = 19204 (8.067 sec)\n",
      "INFO:tensorflow:global_step/sec: 11.4855\n",
      "INFO:tensorflow:loss = 0.0962582, step = 19304 (8.708 sec)\n",
      "INFO:tensorflow:global_step/sec: 11.7245\n",
      "INFO:tensorflow:loss = 0.0835109, step = 19404 (8.529 sec)\n",
      "INFO:tensorflow:global_step/sec: 12.3788\n",
      "INFO:tensorflow:loss = 0.0757294, step = 19504 (8.079 sec)\n",
      "INFO:tensorflow:global_step/sec: 12.3541\n",
      "INFO:tensorflow:loss = 0.17715, step = 19604 (8.095 sec)\n",
      "INFO:tensorflow:global_step/sec: 11.9387\n",
      "INFO:tensorflow:loss = 0.157473, step = 19704 (8.377 sec)\n",
      "INFO:tensorflow:global_step/sec: 11.3448\n",
      "INFO:tensorflow:loss = 0.0556515, step = 19804 (8.814 sec)\n",
      "INFO:tensorflow:global_step/sec: 11.1519\n",
      "INFO:tensorflow:loss = 0.14027, step = 19904 (8.975 sec)\n",
      "INFO:tensorflow:global_step/sec: 11.4086\n",
      "INFO:tensorflow:loss = 0.100919, step = 20004 (8.757 sec)\n",
      "INFO:tensorflow:global_step/sec: 12.2519\n",
      "INFO:tensorflow:loss = 0.147989, step = 20104 (8.163 sec)\n",
      "INFO:tensorflow:global_step/sec: 12.4603\n",
      "INFO:tensorflow:loss = 0.186652, step = 20204 (8.024 sec)\n",
      "INFO:tensorflow:global_step/sec: 12.6373\n",
      "INFO:tensorflow:loss = 0.113084, step = 20304 (7.914 sec)\n",
      "INFO:tensorflow:global_step/sec: 12.5843\n",
      "INFO:tensorflow:loss = 0.114754, step = 20404 (7.946 sec)\n",
      "INFO:tensorflow:global_step/sec: 11.2573\n",
      "INFO:tensorflow:loss = 0.13228, step = 20504 (8.883 sec)\n",
      "INFO:tensorflow:global_step/sec: 11.3421\n",
      "INFO:tensorflow:loss = 0.22417, step = 20604 (8.816 sec)\n",
      "INFO:tensorflow:global_step/sec: 10.6891\n",
      "INFO:tensorflow:loss = 0.19045, step = 20704 (9.355 sec)\n",
      "INFO:tensorflow:global_step/sec: 9.84655\n",
      "INFO:tensorflow:loss = 0.185088, step = 20804 (10.159 sec)\n",
      "INFO:tensorflow:global_step/sec: 10.5914\n",
      "INFO:tensorflow:loss = 0.197069, step = 20904 (9.440 sec)\n",
      "INFO:tensorflow:Saving checkpoints for 21003 into /tmp/mnist_convnet_model/model.ckpt.\n",
      "INFO:tensorflow:Loss for final step: 0.0995097.\n"
     ]
    },
    {
     "data": {
      "text/plain": [
       "<tensorflow.python.estimator.estimator.Estimator at 0x7ff6f42665c0>"
      ]
     },
     "execution_count": 127,
     "metadata": {},
     "output_type": "execute_result"
    }
   ],
   "source": [
    "%%time\n",
    "# !!! It takes a lot of time.\n",
    "# Train the model\n",
    "train_input_fn = tf.estimator.inputs.numpy_input_fn(\n",
    "    x={\"x\": train_data},\n",
    "    y=train_labels,\n",
    "    batch_size=100,\n",
    "    num_epochs=None,\n",
    "    shuffle=True)\n",
    "mnist_classifier.train(\n",
    "    input_fn=train_input_fn,\n",
    "    steps=20000)\n"
   ]
  },
  {
   "cell_type": "code",
   "execution_count": 129,
   "metadata": {},
   "outputs": [
    {
     "name": "stdout",
     "output_type": "stream",
     "text": [
      "INFO:tensorflow:Starting evaluation at 2018-02-23-18:53:24\n",
      "INFO:tensorflow:Restoring parameters from /tmp/mnist_convnet_model/model.ckpt-21003\n",
      "INFO:tensorflow:Finished evaluation at 2018-02-23-18:53:27\n",
      "INFO:tensorflow:Saving dict for global step 21003: accuracy = 0.9697, global_step = 21003, loss = 0.101316\n",
      "{'accuracy': 0.96969998, 'loss': 0.10131599, 'global_step': 21003}\n"
     ]
    }
   ],
   "source": [
    "# Evaluate the model and print results\n",
    "eval_input_fn = tf.estimator.inputs.numpy_input_fn(\n",
    "    x={\"x\": eval_data},\n",
    "    y=eval_labels,\n",
    "    num_epochs=1,\n",
    "    shuffle=False)\n",
    "eval_results = mnist_classifier.evaluate(input_fn=eval_input_fn)\n",
    "print(eval_results)"
   ]
  },
  {
   "cell_type": "markdown",
   "metadata": {
    "collapsed": true
   },
   "source": [
    "** Made by Vprov **"
   ]
  }
 ],
 "metadata": {
  "kernelspec": {
   "display_name": "Python 3",
   "language": "python",
   "name": "python3"
  },
  "language_info": {
   "codemirror_mode": {
    "name": "ipython",
    "version": 3
   },
   "file_extension": ".py",
   "mimetype": "text/x-python",
   "name": "python",
   "nbconvert_exporter": "python",
   "pygments_lexer": "ipython3",
   "version": "3.6.2"
  }
 },
 "nbformat": 4,
 "nbformat_minor": 2
}
